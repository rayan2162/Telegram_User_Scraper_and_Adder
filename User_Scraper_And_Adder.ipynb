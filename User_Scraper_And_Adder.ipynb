{
  "nbformat": 4,
  "nbformat_minor": 0,
  "metadata": {
    "colab": {
      "provenance": []
    },
    "kernelspec": {
      "name": "python3",
      "display_name": "Python 3"
    },
    "language_info": {
      "name": "python"
    }
  },
  "cells": [
    {
      "cell_type": "markdown",
      "source": [
        "# Telegram User Scraper and Adder\n",
        "\n",
        "**Python script to scrape users from one Telegram group and add them to another using Telethon.**"
      ],
      "metadata": {
        "id": "D5EIg7hSdwok"
      }
    },
    {
      "cell_type": "code",
      "source": [
        "# Install the telethon library for interacting with the Telegram API\n",
        "!pip install telethon"
      ],
      "metadata": {
        "colab": {
          "base_uri": "https://localhost:8080/"
        },
        "id": "pf2EchbYeAvD",
        "outputId": "946cf7be-726b-4304-ce69-e66cb519e1ff"
      },
      "execution_count": 2,
      "outputs": [
        {
          "output_type": "stream",
          "name": "stdout",
          "text": [
            "Collecting telethon\n",
            "  Downloading Telethon-1.36.0.tar.gz (606 kB)\n",
            "\u001b[?25l     \u001b[90m━━━━━━━━━━━━━━━━━━━━━━━━━━━━━━━━━━━━━━━━\u001b[0m \u001b[32m0.0/606.3 kB\u001b[0m \u001b[31m?\u001b[0m eta \u001b[36m-:--:--\u001b[0m\r\u001b[2K     \u001b[91m━━━━━━━━━━━━━━━━━━\u001b[0m\u001b[91m╸\u001b[0m\u001b[90m━━━━━━━━━━━━━━━━━━━━━\u001b[0m \u001b[32m286.7/606.3 kB\u001b[0m \u001b[31m8.5 MB/s\u001b[0m eta \u001b[36m0:00:01\u001b[0m\r\u001b[2K     \u001b[90m━━━━━━━━━━━━━━━━━━━━━━━━━━━━━━━━━━━━━━━━\u001b[0m \u001b[32m606.3/606.3 kB\u001b[0m \u001b[31m9.9 MB/s\u001b[0m eta \u001b[36m0:00:00\u001b[0m\n",
            "\u001b[?25h  Installing build dependencies ... \u001b[?25l\u001b[?25hdone\n",
            "  Getting requirements to build wheel ... \u001b[?25l\u001b[?25hdone\n",
            "  Preparing metadata (pyproject.toml) ... \u001b[?25l\u001b[?25hdone\n",
            "Collecting pyaes (from telethon)\n",
            "  Downloading pyaes-1.6.1.tar.gz (28 kB)\n",
            "  Preparing metadata (setup.py) ... \u001b[?25l\u001b[?25hdone\n",
            "Requirement already satisfied: rsa in /usr/local/lib/python3.10/dist-packages (from telethon) (4.9)\n",
            "Requirement already satisfied: pyasn1>=0.1.3 in /usr/local/lib/python3.10/dist-packages (from rsa->telethon) (0.6.0)\n",
            "Building wheels for collected packages: telethon, pyaes\n",
            "  Building wheel for telethon (pyproject.toml) ... \u001b[?25l\u001b[?25hdone\n",
            "  Created wheel for telethon: filename=Telethon-1.36.0-py3-none-any.whl size=680878 sha256=305a0683bbe33c062549bd5e87e9b0c5d8febb7cb72d929b3ae147ca1fdfccc4\n",
            "  Stored in directory: /root/.cache/pip/wheels/4f/6f/86/da2c68242ca7dd92786186731ee763b7ecac8866666ac47170\n",
            "  Building wheel for pyaes (setup.py) ... \u001b[?25l\u001b[?25hdone\n",
            "  Created wheel for pyaes: filename=pyaes-1.6.1-py3-none-any.whl size=26346 sha256=949d43f6cfe1600d4984245aa18395706b4c759161a8efcb4285d1c1fb641cf3\n",
            "  Stored in directory: /root/.cache/pip/wheels/d6/84/5f/ea6aef85a93c7e1922486369874f4740a5642d261e09c59140\n",
            "Successfully built telethon pyaes\n",
            "Installing collected packages: pyaes, telethon\n",
            "Successfully installed pyaes-1.6.1 telethon-1.36.0\n"
          ]
        }
      ]
    },
    {
      "cell_type": "code",
      "execution_count": 1,
      "metadata": {
        "colab": {
          "base_uri": "https://localhost:8080/",
          "height": 393
        },
        "id": "RnwQMYg-dPWm",
        "outputId": "969b94b1-d3fc-46da-f7b2-9fdc63c39431"
      },
      "outputs": [
        {
          "output_type": "error",
          "ename": "ModuleNotFoundError",
          "evalue": "No module named 'telethon'",
          "traceback": [
            "\u001b[0;31m---------------------------------------------------------------------------\u001b[0m",
            "\u001b[0;31mModuleNotFoundError\u001b[0m                       Traceback (most recent call last)",
            "\u001b[0;32m<ipython-input-1-c6f9b8d9afc1>\u001b[0m in \u001b[0;36m<cell line: 1>\u001b[0;34m()\u001b[0m\n\u001b[0;32m----> 1\u001b[0;31m \u001b[0;32mfrom\u001b[0m \u001b[0mtelethon\u001b[0m \u001b[0;32mimport\u001b[0m \u001b[0mTelegramClient\u001b[0m\u001b[0;34m\u001b[0m\u001b[0;34m\u001b[0m\u001b[0m\n\u001b[0m\u001b[1;32m      2\u001b[0m \u001b[0;32mfrom\u001b[0m \u001b[0mtelethon\u001b[0m\u001b[0;34m.\u001b[0m\u001b[0mtl\u001b[0m\u001b[0;34m.\u001b[0m\u001b[0mfunctions\u001b[0m\u001b[0;34m.\u001b[0m\u001b[0mchannels\u001b[0m \u001b[0;32mimport\u001b[0m \u001b[0mGetParticipantsRequest\u001b[0m\u001b[0;34m,\u001b[0m \u001b[0mInviteToChannelRequest\u001b[0m\u001b[0;34m\u001b[0m\u001b[0;34m\u001b[0m\u001b[0m\n\u001b[1;32m      3\u001b[0m \u001b[0;32mfrom\u001b[0m \u001b[0mtelethon\u001b[0m\u001b[0;34m.\u001b[0m\u001b[0mtl\u001b[0m\u001b[0;34m.\u001b[0m\u001b[0mtypes\u001b[0m \u001b[0;32mimport\u001b[0m \u001b[0mChannelParticipantsRecent\u001b[0m\u001b[0;34m\u001b[0m\u001b[0;34m\u001b[0m\u001b[0m\n\u001b[1;32m      4\u001b[0m \u001b[0;32mimport\u001b[0m \u001b[0mnest_asyncio\u001b[0m\u001b[0;34m\u001b[0m\u001b[0;34m\u001b[0m\u001b[0m\n\u001b[1;32m      5\u001b[0m \u001b[0;32mimport\u001b[0m \u001b[0masyncio\u001b[0m\u001b[0;34m\u001b[0m\u001b[0;34m\u001b[0m\u001b[0m\n",
            "\u001b[0;31mModuleNotFoundError\u001b[0m: No module named 'telethon'",
            "",
            "\u001b[0;31m---------------------------------------------------------------------------\u001b[0;32m\nNOTE: If your import is failing due to a missing package, you can\nmanually install dependencies using either !pip or !apt.\n\nTo view examples of installing some common dependencies, click the\n\"Open Examples\" button below.\n\u001b[0;31m---------------------------------------------------------------------------\u001b[0m\n"
          ],
          "errorDetails": {
            "actions": [
              {
                "action": "open_url",
                "actionText": "Open Examples",
                "url": "/notebooks/snippets/importing_libraries.ipynb"
              }
            ]
          }
        }
      ],
      "source": [
        "from telethon import TelegramClient\n",
        "from telethon.tl.functions.channels import GetParticipantsRequest, InviteToChannelRequest\n",
        "from telethon.tl.types import ChannelParticipantsRecent\n",
        "import nest_asyncio\n",
        "import asyncio\n",
        "\n",
        "# Apply this patch to allow nested use of asyncio in Jupyter notebooks\n",
        "nest_asyncio.apply()\n",
        "\n",
        "# Configuration\n",
        "API_ID = 'your_api_id'  # Replace with your API ID\n",
        "API_HASH = 'your_api_hash'  # Replace with your API hash\n",
        "SESSION_NAME = 'my_session'\n",
        "SOURCE_CHAT = 'source_chat_username_or_id'  # Replace with the username or ID of the source chat\n",
        "TARGET_CHAT = 'target_chat_username_or_id'  # Replace with the username or ID of the target chat\n",
        "\n",
        "async def scrape_and_add_users():\n",
        "    \"\"\"\n",
        "    Scrape users from the source Telegram group and add them to the target group.\n",
        "    \"\"\"\n",
        "    # Initialize the Telegram client\n",
        "    async with TelegramClient(SESSION_NAME, API_ID, API_HASH) as client:\n",
        "        await client.start()\n",
        "\n",
        "        # Get participants from the source group\n",
        "        source_group = await client.get_entity(SOURCE_CHAT)\n",
        "        participants = await client(GetParticipantsRequest(\n",
        "            channel=source_group,\n",
        "            filter=ChannelParticipantsRecent(),  # Filter for recent participants\n",
        "            offset=0,  # Offset for pagination\n",
        "            limit=100,  # Limit the number of participants retrieved\n",
        "            hash=0  # Hash parameter, can be set as required\n",
        "        ))\n",
        "\n",
        "        # Print participant details\n",
        "        for user in participants.users:\n",
        "            print(f'User ID: {user.id}, First Name: {user.first_name}')\n",
        "\n",
        "        # Add users to the target group\n",
        "        target_group = await client.get_entity(TARGET_CHAT)\n",
        "        user_ids = [user.id for user in participants.users]  # Extract user IDs\n",
        "\n",
        "        try:\n",
        "            await client(InviteToChannelRequest(\n",
        "                channel=target_group,\n",
        "                users=user_ids\n",
        "            ))\n",
        "            print('Users added successfully!')\n",
        "        except Exception as e:\n",
        "            print(f'Failed to add users: {e}')\n",
        "\n",
        "# Run the asynchronous function\n",
        "asyncio.run(scrape_and_add_users())\n"
      ]
    }
  ]
}